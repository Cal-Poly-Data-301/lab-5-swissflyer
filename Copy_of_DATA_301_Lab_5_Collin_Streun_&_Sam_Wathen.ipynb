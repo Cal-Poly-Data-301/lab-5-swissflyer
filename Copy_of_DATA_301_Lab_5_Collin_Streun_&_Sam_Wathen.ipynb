{
  "nbformat": 4,
  "nbformat_minor": 0,
  "metadata": {
    "kernelspec": {
      "display_name": "Python 3",
      "language": "python",
      "name": "python3"
    },
    "language_info": {
      "codemirror_mode": {
        "name": "ipython",
        "version": 3
      },
      "file_extension": ".py",
      "mimetype": "text/x-python",
      "name": "python",
      "nbconvert_exporter": "python",
      "pygments_lexer": "ipython3",
      "version": "3.6.8"
    },
    "colab": {
      "name": "Copy of DATA 301 Lab 5 - Collin Streun & Sam Wathen",
      "provenance": [],
      "collapsed_sections": [],
      "include_colab_link": true
    }
  },
  "cells": [
    {
      "cell_type": "markdown",
      "metadata": {
        "id": "view-in-github",
        "colab_type": "text"
      },
      "source": [
        "<a href=\"https://colab.research.google.com/github/Cal-Poly-Data-301/lab-5-swissflyer/blob/main/Copy_of_DATA_301_Lab_5_Collin_Streun_%26_Sam_Wathen.ipynb\" target=\"_parent\"><img src=\"https://colab.research.google.com/assets/colab-badge.svg\" alt=\"Open In Colab\"/></a>"
      ]
    },
    {
      "cell_type": "markdown",
      "metadata": {
        "id": "iG3X1KFIBLUK"
      },
      "source": [
        "# Authorship of the Federalist Papers\n",
        "\n",
        "The _Federalist Papers_ were a set of 85 essays published between 1787 and 1788 to promote the ratification of the United States Constitution. They were originally published under the pseudonym \"Publius\". Although the identity of the authors was a closely guarded secret at the time, most of the papers have since been conclusively attributed to one of Hamilton, Jay, or Madison. The known authorships can be found in `https://dlsun.github.io/pods/data/federalist/authorship.csv`.\n",
        "\n",
        "For 15 of the papers, however, the authorships remain disputed. (These papers can be identified from the `authorship.csv` file because the \"Author\" field is blank.) In this analysis, you will use the papers with known authorship to predict the authorships of the disputed papers. The text of each paper is available at `https://dlsun.github.io/pods/data/federalist/x.txt`, where `x` is the number of the paper (i.e., a number from 1 to 85). The name of the file indicates the number of the paper."
      ]
    },
    {
      "cell_type": "markdown",
      "metadata": {
        "id": "8YRe6SB3BLUN"
      },
      "source": [
        "## Question 1\n",
        "\n",
        "When analyzing an author's style, common words like \"the\" and \"on\" are actually more useful than rare words like \"hostilities\". That is because rare words typically signify context. Context is useful if you are trying to find documents about similar topics, but not so useful if you are trying to identify an author's style because different authors can write about the same topic. For example, both Dr. Seuss and Charles Dickens used rare words like \"chimney\" and \"stockings\" in _How the Grinch Stole Christmas_ and _A Christmas Carol_, respectively. But they used common words very differently: Dickens used the word \"upon\" over 100 times, while Dr. Seuss did not use \"upon\" even once.\n",
        "\n",
        "Read in the Federalist Papers. Convert each one into a vector of term frequencies. In order to restrict to common words, include only the top 50 words across the corpus. (Because we are restricting to the most common words already, there is no reason to reweight them using TF-IDF.)"
      ]
    },
    {
      "cell_type": "code",
      "source": [
        "import pandas as pd\n",
        "import requests\n",
        "from collections import Counter\n",
        "\n",
        "from sklearn.feature_extraction.text import CountVectorizer\n",
        "df_authorship = pd.read_csv(\"https://dlsun.github.io/pods/data/federalist/authorship.csv\")\n",
        "df_authorship.head()\n",
        "df_authorship\n",
        "\n",
        "unknown_text = []\n",
        "\n",
        "texts = pd.Series()\n",
        "\n",
        "for i in range(85):\n",
        "  if pd.isnull(df_authorship.iloc[i][\"Author\"]):\n",
        "    unknown_text.append(i)\n",
        "  #else:\n",
        "  text_link = f\"https://dlsun.github.io/pods/data/federalist/{i+1}.txt\"\n",
        "  response = requests.get(text_link, \"r\")\n",
        "  texts[f\"{i+1}\"] = response.text\n",
        "\n",
        "print(unknown_text)\n",
        "\n",
        "from sklearn.feature_extraction.text import CountVectorizer\n",
        "\n",
        "##I used 10 for max_features=10 for the graph and then turn it back to 50 for the prediction\n",
        "vec = CountVectorizer(max_features=10)\n",
        "vec.fit(texts) # This determines the vocabulary.\n",
        "tf_sparse = vec.transform(texts)\n",
        "\n",
        "tf_sparse\n",
        "matrix = pd.DataFrame(\n",
        "    tf_sparse.todense(),\n",
        "    columns=vec.get_feature_names()\n",
        ")\n",
        "\n",
        "matrix[\"Author\"] = df_authorship[\"Author\"]\n",
        "\n",
        "\n"
      ],
      "metadata": {
        "id": "p4V0edClidOq",
        "colab": {
          "base_uri": "https://localhost:8080/"
        },
        "outputId": "9d6fcd85-b78c-4cc7-b4b1-98f79fb6e068"
      },
      "execution_count": null,
      "outputs": [
        {
          "output_type": "stream",
          "name": "stderr",
          "text": [
            "/usr/local/lib/python3.7/dist-packages/ipykernel_launcher.py:12: DeprecationWarning: The default dtype for empty Series will be 'object' instead of 'float64' in a future version. Specify a dtype explicitly to silence this warning.\n",
            "  if sys.path[0] == '':\n"
          ]
        },
        {
          "output_type": "stream",
          "name": "stdout",
          "text": [
            "[17, 18, 19, 48, 49, 50, 51, 52, 53, 54, 55, 56, 57, 61, 62]\n"
          ]
        },
        {
          "output_type": "stream",
          "name": "stderr",
          "text": [
            "/usr/local/lib/python3.7/dist-packages/sklearn/utils/deprecation.py:87: FutureWarning: Function get_feature_names is deprecated; get_feature_names is deprecated in 1.0 and will be removed in 1.2. Please use get_feature_names_out instead.\n",
            "  warnings.warn(msg, category=FutureWarning)\n"
          ]
        }
      ]
    },
    {
      "cell_type": "markdown",
      "source": [
        "Note: I made it only top 10 for the graph so it easier to understand. Then in Q3 I turn it back to top 50"
      ],
      "metadata": {
        "id": "z_biTmXPAy6i"
      }
    },
    {
      "cell_type": "code",
      "source": [
        "           "
      ],
      "metadata": {
        "id": "ri8zWyYapThI"
      },
      "execution_count": null,
      "outputs": []
    },
    {
      "cell_type": "code",
      "source": [
        "matrix"
      ],
      "metadata": {
        "colab": {
          "base_uri": "https://localhost:8080/",
          "height": 424
        },
        "id": "SRNLAWq1xl7U",
        "outputId": "3e11eb88-375d-4b7c-fda5-60a06f446023"
      },
      "execution_count": null,
      "outputs": [
        {
          "output_type": "execute_result",
          "data": {
            "text/html": [
              "\n",
              "  <div id=\"df-3e5860a6-93b3-4d5d-bfbb-32f31fe39589\">\n",
              "    <div class=\"colab-df-container\">\n",
              "      <div>\n",
              "<style scoped>\n",
              "    .dataframe tbody tr th:only-of-type {\n",
              "        vertical-align: middle;\n",
              "    }\n",
              "\n",
              "    .dataframe tbody tr th {\n",
              "        vertical-align: top;\n",
              "    }\n",
              "\n",
              "    .dataframe thead th {\n",
              "        text-align: right;\n",
              "    }\n",
              "</style>\n",
              "<table border=\"1\" class=\"dataframe\">\n",
              "  <thead>\n",
              "    <tr style=\"text-align: right;\">\n",
              "      <th></th>\n",
              "      <th>and</th>\n",
              "      <th>be</th>\n",
              "      <th>in</th>\n",
              "      <th>is</th>\n",
              "      <th>it</th>\n",
              "      <th>of</th>\n",
              "      <th>that</th>\n",
              "      <th>the</th>\n",
              "      <th>to</th>\n",
              "      <th>which</th>\n",
              "      <th>Author</th>\n",
              "    </tr>\n",
              "  </thead>\n",
              "  <tbody>\n",
              "    <tr>\n",
              "      <th>0</th>\n",
              "      <td>40</td>\n",
              "      <td>34</td>\n",
              "      <td>27</td>\n",
              "      <td>13</td>\n",
              "      <td>20</td>\n",
              "      <td>106</td>\n",
              "      <td>28</td>\n",
              "      <td>133</td>\n",
              "      <td>72</td>\n",
              "      <td>18</td>\n",
              "      <td>Hamilton</td>\n",
              "    </tr>\n",
              "    <tr>\n",
              "      <th>1</th>\n",
              "      <td>83</td>\n",
              "      <td>15</td>\n",
              "      <td>34</td>\n",
              "      <td>16</td>\n",
              "      <td>38</td>\n",
              "      <td>83</td>\n",
              "      <td>44</td>\n",
              "      <td>107</td>\n",
              "      <td>53</td>\n",
              "      <td>11</td>\n",
              "      <td>Jay</td>\n",
              "    </tr>\n",
              "    <tr>\n",
              "      <th>2</th>\n",
              "      <td>60</td>\n",
              "      <td>31</td>\n",
              "      <td>25</td>\n",
              "      <td>7</td>\n",
              "      <td>21</td>\n",
              "      <td>62</td>\n",
              "      <td>20</td>\n",
              "      <td>93</td>\n",
              "      <td>56</td>\n",
              "      <td>11</td>\n",
              "      <td>Jay</td>\n",
              "    </tr>\n",
              "    <tr>\n",
              "      <th>3</th>\n",
              "      <td>90</td>\n",
              "      <td>26</td>\n",
              "      <td>24</td>\n",
              "      <td>10</td>\n",
              "      <td>28</td>\n",
              "      <td>72</td>\n",
              "      <td>17</td>\n",
              "      <td>86</td>\n",
              "      <td>51</td>\n",
              "      <td>10</td>\n",
              "      <td>Jay</td>\n",
              "    </tr>\n",
              "    <tr>\n",
              "      <th>4</th>\n",
              "      <td>72</td>\n",
              "      <td>31</td>\n",
              "      <td>28</td>\n",
              "      <td>7</td>\n",
              "      <td>21</td>\n",
              "      <td>53</td>\n",
              "      <td>23</td>\n",
              "      <td>66</td>\n",
              "      <td>45</td>\n",
              "      <td>10</td>\n",
              "      <td>Jay</td>\n",
              "    </tr>\n",
              "    <tr>\n",
              "      <th>...</th>\n",
              "      <td>...</td>\n",
              "      <td>...</td>\n",
              "      <td>...</td>\n",
              "      <td>...</td>\n",
              "      <td>...</td>\n",
              "      <td>...</td>\n",
              "      <td>...</td>\n",
              "      <td>...</td>\n",
              "      <td>...</td>\n",
              "      <td>...</td>\n",
              "      <td>...</td>\n",
              "    </tr>\n",
              "    <tr>\n",
              "      <th>80</th>\n",
              "      <td>88</td>\n",
              "      <td>85</td>\n",
              "      <td>135</td>\n",
              "      <td>61</td>\n",
              "      <td>65</td>\n",
              "      <td>248</td>\n",
              "      <td>49</td>\n",
              "      <td>389</td>\n",
              "      <td>163</td>\n",
              "      <td>41</td>\n",
              "      <td>Hamilton</td>\n",
              "    </tr>\n",
              "    <tr>\n",
              "      <th>81</th>\n",
              "      <td>41</td>\n",
              "      <td>36</td>\n",
              "      <td>38</td>\n",
              "      <td>15</td>\n",
              "      <td>13</td>\n",
              "      <td>94</td>\n",
              "      <td>19</td>\n",
              "      <td>168</td>\n",
              "      <td>83</td>\n",
              "      <td>18</td>\n",
              "      <td>Hamilton</td>\n",
              "    </tr>\n",
              "    <tr>\n",
              "      <th>82</th>\n",
              "      <td>121</td>\n",
              "      <td>105</td>\n",
              "      <td>213</td>\n",
              "      <td>116</td>\n",
              "      <td>102</td>\n",
              "      <td>331</td>\n",
              "      <td>121</td>\n",
              "      <td>485</td>\n",
              "      <td>219</td>\n",
              "      <td>79</td>\n",
              "      <td>Hamilton</td>\n",
              "    </tr>\n",
              "    <tr>\n",
              "      <th>83</th>\n",
              "      <td>89</td>\n",
              "      <td>94</td>\n",
              "      <td>91</td>\n",
              "      <td>68</td>\n",
              "      <td>64</td>\n",
              "      <td>293</td>\n",
              "      <td>84</td>\n",
              "      <td>390</td>\n",
              "      <td>140</td>\n",
              "      <td>53</td>\n",
              "      <td>Hamilton</td>\n",
              "    </tr>\n",
              "    <tr>\n",
              "      <th>84</th>\n",
              "      <td>73</td>\n",
              "      <td>34</td>\n",
              "      <td>73</td>\n",
              "      <td>38</td>\n",
              "      <td>41</td>\n",
              "      <td>172</td>\n",
              "      <td>34</td>\n",
              "      <td>246</td>\n",
              "      <td>115</td>\n",
              "      <td>42</td>\n",
              "      <td>Hamilton</td>\n",
              "    </tr>\n",
              "  </tbody>\n",
              "</table>\n",
              "<p>85 rows × 11 columns</p>\n",
              "</div>\n",
              "      <button class=\"colab-df-convert\" onclick=\"convertToInteractive('df-3e5860a6-93b3-4d5d-bfbb-32f31fe39589')\"\n",
              "              title=\"Convert this dataframe to an interactive table.\"\n",
              "              style=\"display:none;\">\n",
              "        \n",
              "  <svg xmlns=\"http://www.w3.org/2000/svg\" height=\"24px\"viewBox=\"0 0 24 24\"\n",
              "       width=\"24px\">\n",
              "    <path d=\"M0 0h24v24H0V0z\" fill=\"none\"/>\n",
              "    <path d=\"M18.56 5.44l.94 2.06.94-2.06 2.06-.94-2.06-.94-.94-2.06-.94 2.06-2.06.94zm-11 1L8.5 8.5l.94-2.06 2.06-.94-2.06-.94L8.5 2.5l-.94 2.06-2.06.94zm10 10l.94 2.06.94-2.06 2.06-.94-2.06-.94-.94-2.06-.94 2.06-2.06.94z\"/><path d=\"M17.41 7.96l-1.37-1.37c-.4-.4-.92-.59-1.43-.59-.52 0-1.04.2-1.43.59L10.3 9.45l-7.72 7.72c-.78.78-.78 2.05 0 2.83L4 21.41c.39.39.9.59 1.41.59.51 0 1.02-.2 1.41-.59l7.78-7.78 2.81-2.81c.8-.78.8-2.07 0-2.86zM5.41 20L4 18.59l7.72-7.72 1.47 1.35L5.41 20z\"/>\n",
              "  </svg>\n",
              "      </button>\n",
              "      \n",
              "  <style>\n",
              "    .colab-df-container {\n",
              "      display:flex;\n",
              "      flex-wrap:wrap;\n",
              "      gap: 12px;\n",
              "    }\n",
              "\n",
              "    .colab-df-convert {\n",
              "      background-color: #E8F0FE;\n",
              "      border: none;\n",
              "      border-radius: 50%;\n",
              "      cursor: pointer;\n",
              "      display: none;\n",
              "      fill: #1967D2;\n",
              "      height: 32px;\n",
              "      padding: 0 0 0 0;\n",
              "      width: 32px;\n",
              "    }\n",
              "\n",
              "    .colab-df-convert:hover {\n",
              "      background-color: #E2EBFA;\n",
              "      box-shadow: 0px 1px 2px rgba(60, 64, 67, 0.3), 0px 1px 3px 1px rgba(60, 64, 67, 0.15);\n",
              "      fill: #174EA6;\n",
              "    }\n",
              "\n",
              "    [theme=dark] .colab-df-convert {\n",
              "      background-color: #3B4455;\n",
              "      fill: #D2E3FC;\n",
              "    }\n",
              "\n",
              "    [theme=dark] .colab-df-convert:hover {\n",
              "      background-color: #434B5C;\n",
              "      box-shadow: 0px 1px 3px 1px rgba(0, 0, 0, 0.15);\n",
              "      filter: drop-shadow(0px 1px 2px rgba(0, 0, 0, 0.3));\n",
              "      fill: #FFFFFF;\n",
              "    }\n",
              "  </style>\n",
              "\n",
              "      <script>\n",
              "        const buttonEl =\n",
              "          document.querySelector('#df-3e5860a6-93b3-4d5d-bfbb-32f31fe39589 button.colab-df-convert');\n",
              "        buttonEl.style.display =\n",
              "          google.colab.kernel.accessAllowed ? 'block' : 'none';\n",
              "\n",
              "        async function convertToInteractive(key) {\n",
              "          const element = document.querySelector('#df-3e5860a6-93b3-4d5d-bfbb-32f31fe39589');\n",
              "          const dataTable =\n",
              "            await google.colab.kernel.invokeFunction('convertToInteractive',\n",
              "                                                     [key], {});\n",
              "          if (!dataTable) return;\n",
              "\n",
              "          const docLinkHtml = 'Like what you see? Visit the ' +\n",
              "            '<a target=\"_blank\" href=https://colab.research.google.com/notebooks/data_table.ipynb>data table notebook</a>'\n",
              "            + ' to learn more about interactive tables.';\n",
              "          element.innerHTML = '';\n",
              "          dataTable['output_type'] = 'display_data';\n",
              "          await google.colab.output.renderOutput(dataTable, element);\n",
              "          const docLink = document.createElement('div');\n",
              "          docLink.innerHTML = docLinkHtml;\n",
              "          element.appendChild(docLink);\n",
              "        }\n",
              "      </script>\n",
              "    </div>\n",
              "  </div>\n",
              "  "
            ],
            "text/plain": [
              "    and   be   in   is   it   of  that  the   to  which    Author\n",
              "0    40   34   27   13   20  106    28  133   72     18  Hamilton\n",
              "1    83   15   34   16   38   83    44  107   53     11       Jay\n",
              "2    60   31   25    7   21   62    20   93   56     11       Jay\n",
              "3    90   26   24   10   28   72    17   86   51     10       Jay\n",
              "4    72   31   28    7   21   53    23   66   45     10       Jay\n",
              "..  ...  ...  ...  ...  ...  ...   ...  ...  ...    ...       ...\n",
              "80   88   85  135   61   65  248    49  389  163     41  Hamilton\n",
              "81   41   36   38   15   13   94    19  168   83     18  Hamilton\n",
              "82  121  105  213  116  102  331   121  485  219     79  Hamilton\n",
              "83   89   94   91   68   64  293    84  390  140     53  Hamilton\n",
              "84   73   34   73   38   41  172    34  246  115     42  Hamilton\n",
              "\n",
              "[85 rows x 11 columns]"
            ]
          },
          "metadata": {},
          "execution_count": 2
        }
      ]
    },
    {
      "cell_type": "markdown",
      "metadata": {
        "id": "bDLgJQtaHljA"
      },
      "source": [
        "## Question 2\n",
        "Make a visualization that summarizes the most common words used by Hamilton, Madison, and Jay."
      ]
    },
    {
      "cell_type": "code",
      "source": [
        "matrix.groupby(\"Author\").sum().plot.bar(legend = True)\n"
      ],
      "metadata": {
        "colab": {
          "base_uri": "https://localhost:8080/",
          "height": 333
        },
        "id": "UFqVhXUubUV5",
        "outputId": "d304d004-4f49-47c2-fa80-38743a120377"
      },
      "execution_count": null,
      "outputs": [
        {
          "output_type": "execute_result",
          "data": {
            "text/plain": [
              "<matplotlib.axes._subplots.AxesSubplot at 0x7fcf219e5910>"
            ]
          },
          "metadata": {},
          "execution_count": 3
        },
        {
          "output_type": "display_data",
          "data": {
            "image/png": "[encoded data removed]",
            "text/plain": [
              "<Figure size 432x288 with 1 Axes>"
            ]
          },
          "metadata": {
            "needs_background": "light"
          }
        }
      ]
    },
    {
      "cell_type": "markdown",
      "metadata": {
        "id": "fh0DzmKrBLUT"
      },
      "source": [
        "## Question 3\n",
        "\n",
        "For each of the documents with disputed authorships, find the 5 most similar documents with _known_ authorships, using cosine distance on the term frequencies. Use the authors of these 5 most similar documents to predict the author of each disputed document. (For example, if 3 of the 5 closest documents were written by Hamilton, 1 by Madison, and 1 by Jay, then we would predict that the disputed document was written by Hamilton.)"
      ]
    },
    {
      "cell_type": "code",
      "source": [
        "from sklearn.pipeline import make_pipeline\n",
        "from sklearn.preprocessing import StandardScaler\n",
        "from sklearn.neighbors import KNeighborsClassifier\n",
        "\n",
        "from sklearn.feature_extraction.text import CountVectorizer\n",
        "\n",
        "vec = CountVectorizer(max_features=50)\n",
        "vec.fit(texts) # This determines the vocabulary.\n",
        "tf_sparse = vec.transform(texts)\n",
        "\n",
        "tf_sparse\n",
        "matrix = pd.DataFrame(\n",
        "    tf_sparse.todense(),\n",
        "    columns=vec.get_feature_names()\n",
        ")\n",
        "\n",
        "matrix[\"Author\"] = df_authorship[\"Author\"]\n",
        "unknown_papers = matrix[matrix.isna().any(axis=1)]\n",
        "unknown_papers = unknown_papers.drop(['Author'], axis=1)\n",
        "known_papers = matrix.dropna()\n",
        "\n",
        "unknown_papers\n",
        "\n",
        "y_train = known_papers[\"Author\"]\n",
        "x_train = known_papers.drop(['Author'], axis=1)\n",
        "\n",
        "pipeline = make_pipeline(\n",
        "          StandardScaler(),\n",
        "          KNeighborsClassifier(n_neighbors=5)\n",
        ")\n",
        "unknown_papers\n",
        "y_train\n",
        "\n",
        "# x_new = unknown_papers.loc[17]\n",
        "# x_new\n",
        "pipeline.fit(X=x_train, y=y_train)\n",
        "author_prediction = pipeline.predict(X=unknown_papers)\n",
        "\n",
        "\n",
        "for i, name in enumerate(author_prediction):\n",
        "  print(f\"Paper: {unknown_text[i]} is predicted to be {name}\")"
      ],
      "metadata": {
        "colab": {
          "base_uri": "https://localhost:8080/"
        },
        "id": "cG5KeyKkxD-Q",
        "outputId": "a3c0a4d1-a2f9-4710-d05d-a73ef6b4053d"
      },
      "execution_count": null,
      "outputs": [
        {
          "output_type": "stream",
          "name": "stdout",
          "text": [
            "Paper: 17 is predicted to be Hamilton\n",
            "Paper: 18 is predicted to be Hamilton\n",
            "Paper: 19 is predicted to be Hamilton\n",
            "Paper: 48 is predicted to be Hamilton\n",
            "Paper: 49 is predicted to be Hamilton\n",
            "Paper: 50 is predicted to be Hamilton\n",
            "Paper: 51 is predicted to be Hamilton\n",
            "Paper: 52 is predicted to be Hamilton\n",
            "Paper: 53 is predicted to be Hamilton\n",
            "Paper: 54 is predicted to be Hamilton\n",
            "Paper: 55 is predicted to be Hamilton\n",
            "Paper: 56 is predicted to be Hamilton\n",
            "Paper: 57 is predicted to be Madison\n",
            "Paper: 61 is predicted to be Hamilton\n",
            "Paper: 62 is predicted to be Hamilton\n"
          ]
        },
        {
          "output_type": "stream",
          "name": "stderr",
          "text": [
            "/usr/local/lib/python3.7/dist-packages/sklearn/utils/deprecation.py:87: FutureWarning: Function get_feature_names is deprecated; get_feature_names is deprecated in 1.0 and will be removed in 1.2. Please use get_feature_names_out instead.\n",
            "  warnings.warn(msg, category=FutureWarning)\n"
          ]
        }
      ]
    },
    {
      "cell_type": "markdown",
      "source": [
        "As we can see, most are predicted to be written by Hamiliton. This is also a cause of using KNeighbors as the training set was mostly Hamilton which could alter the outcome."
      ],
      "metadata": {
        "id": "Fm-6zmNwAgXz"
      }
    },
    {
      "cell_type": "markdown",
      "source": [
        ""
      ],
      "metadata": {
        "id": "-ctDJeP-AgPO"
      }
    },
    {
      "cell_type": "markdown",
      "metadata": {
        "id": "8Ng3BgkXBLUw"
      },
      "source": [
        "## Submission Instructions\n",
        "\n",
        "- Copy this notebook to your own Drive, if you have not already.\n",
        "- Restart this notebook and run the cells from beginning to end. \n",
        "  - Go to Runtime > Restart and Run All.\n",
        "- Rename this notebook by clicking on \"DATA 301 Lab 5 - YOUR NAMES HERE\" at the very top of this page. Replace \"YOUR NAMES HERE\" with the first and last names of you (and your partners, for Phase 2).\n",
        "- Get the link to your notebook:\n",
        "  - Click on \"Share\" at the top-right. \n",
        "  - Change the settings to \"Anyone with the link can view\". \n",
        "  - Copy the sharing link into Canvas."
      ]
    }
  ]
}